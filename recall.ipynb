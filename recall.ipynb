{
 "cells": [
  {
   "cell_type": "code",
   "execution_count": 10,
   "metadata": {},
   "outputs": [
    {
     "name": "stdout",
     "output_type": "stream",
     "text": [
      "[[0, 121, 512, 384], [-10, 189, 523, 317]]\n"
     ]
    }
   ],
   "source": [
    "import os\n",
    "import matplotlib.pyplot as plt\n",
    "import cv2\n",
    "import re\n",
    "import numpy as np\n",
    "\n",
    "#file = r'/home/yuzhengbo/Downloads/qq-files/2690486436/file_recv/input'\n",
    "\n",
    "\n",
    "def ax_real(file1):     #得到真实框的位置为list\n",
    "    real = []\n",
    "    with open(file1,'r')as f:\n",
    "       real.append(f.readlines())\n",
    "    real = [i.strip() for i in real[0]]\n",
    "    # print(real)\n",
    "    ax =[]\n",
    "    for i in real:\n",
    "       ax.append([ int(i) for i in re.findall(' \\d+',i)])\n",
    "    return ax\n",
    "\n",
    "def ax_pre(file1):      #得到预测框的位置为list\n",
    "    real = []\n",
    "    with open(file1,'r')as f:\n",
    "       real.append(f.readlines())   \n",
    "    real = [i.strip() for i in real[0]]\n",
    "    # print(real)\n",
    "    ax = []\n",
    "    score = []\n",
    "    for i in real:\n",
    "       ax.append([ int(i) for i in re.findall(' -*\\d+',i) if abs(int(i))>=1 or abs(float(i))<0.01])\n",
    "    for i in real:\n",
    "       score.append([ float(i) for i in re.findall(' [\\d]*[.]*[\\d]* ',i) ])\n",
    "    return [i[1:] for i in ax]#,[i[0] for i in score]\n",
    "\n",
    "print(ax_pre(r'detection-results/000006.txt'))\n",
    "\n"
   ]
  },
  {
   "cell_type": "code",
   "execution_count": 40,
   "metadata": {
    "scrolled": true
   },
   "outputs": [
    {
     "name": "stdout",
     "output_type": "stream",
     "text": [
      "recall: 0.9832775919732442\n",
      "accuracy: 0.6\n",
      "正确预测出目标的框数量,真实框数量,预测框数量,预测错误数量分别为: 294 299 490 196\n"
     ]
    }
   ],
   "source": [
    "\n",
    "\n",
    "def iou(predicted_bound, ground_truth_bound):       #计算IOU\n",
    "    \"\"\"\n",
    "    computing the IoU of two boxes.\n",
    "    Args:\n",
    "        box: (xmin, ymin, xmax, ymax),通过左下和右上两个顶点坐标来确定矩形位置\n",
    "    Return:\n",
    "        IoU: IoU of box1 and box2.\n",
    "    \"\"\"\n",
    "    pxmin, pymin, pxmax, pymax = predicted_bound\n",
    "    # print(\"预测框P的坐标是：({}, {}, {}, {})\".format(pxmin, pymin, pxmax, pymax))\n",
    "    gxmin, gymin, gxmax, gymax = ground_truth_bound\n",
    "    # print(\"原标记框G的坐标是：({}, {}, {}, {})\".format(gxmin, gymin, gxmax, gymax))\n",
    "\n",
    "    parea = (pxmax - pxmin) * (pymax - pymin)  # 计算P的面积\n",
    "    garea = (gxmax - gxmin) * (gymax - gymin)  # 计算G的面积\n",
    "    # print(\"预测框P的面积是：{}；原标记框G的面积是：{}\".format(parea, garea))\n",
    "\n",
    "    # 求相交矩形的左下和右上顶点坐标(xmin, ymin, xmax, ymax)\n",
    "    xmin = max(pxmin, gxmin)  # 得到左下顶点的横坐标\n",
    "    ymin = max(pymin, gymin)  # 得到左下顶点的纵坐标\n",
    "    xmax = min(pxmax, gxmax)  # 得到右上顶点的横坐标\n",
    "    ymax = min(pymax, gymax)  # 得到右上顶点的纵坐标\n",
    "\n",
    "    # 计算相交矩形的面积\n",
    "    w = xmax - xmin\n",
    "    h = ymax - ymin\n",
    "    if w <=0 or h <= 0:\n",
    "        return 0\n",
    "\n",
    "    area = w * h  # G∩P的面积\n",
    "    # area = max(0, xmax - xmin) * max(0, ymax - ymin)  # 可以用一行代码算出来相交矩形的面积\n",
    "    # print(\"G∩P的面积是：{}\".format(area))\n",
    "\n",
    "    # 并集的面积 = 两个矩形面积 - 交集面积\n",
    "    IoU = area / (parea + garea - area)\n",
    "\n",
    "    return IoU\n",
    "\n",
    "\n",
    "def recall(ax1,ax2):\n",
    "    l = len(ax1)\n",
    "    q = 0\n",
    "    for i in ax1:\n",
    "        print(i)\n",
    "        for j in ax2:\n",
    "            print(j)\n",
    "            if iou(i,j)>=0.5:\n",
    "                q += 1\n",
    "                break\n",
    "    return q/l\n",
    "\n",
    "\n",
    "\n",
    "\n",
    "def rec(a,b):\n",
    "    l = len(a)\n",
    "    q = 0\n",
    "    lb = len(b)\n",
    "    for i in a:\n",
    "       for j in b:\n",
    "           if iou(i,j)>0.5:\n",
    "               q += 1\n",
    "               break\n",
    "    return float(q/l),q,l,lb        #计算recall,正确预测出目标的框数量,真实框数量,预测框数量\n",
    "\n",
    "\n",
    "file_pre = 'detection-results'     #存放预测框txt文件的父文件夹\n",
    "file_real = 'ground-truth'      #存放真实框txt文件的父文件夹\n",
    "recall = []\n",
    "q,l,lb = 0,0,0\n",
    "y_label = []\n",
    "score = []\n",
    "for i in os.listdir(file_pre)[1:]:\n",
    "\n",
    "    file1 = file_real+'/'+i\n",
    "    file2 = file_pre+'/'+i\n",
    "\n",
    "    ax1 = []\n",
    "    ax2 = []\n",
    "    ax1 = ax_real(file1)\n",
    "    ax2 = ax_pre(file2)\n",
    "    if rec(ax1,ax2)[0]>0:       #召回率>0就证明有物体存在\n",
    "        y_label.append(1)\n",
    "        score.append(rec(ax1,ax2)[1]/rec(ax1,ax2)[3])\n",
    "    else:\n",
    "        y_label.append(0)\n",
    "        score.append(0)\n",
    "    \n",
    "    \n",
    "#     print(rec(ax1,ax2)[0])       #打印召回率\n",
    "    q += rec(ax1,ax2)[1]\n",
    "    l += rec(ax1,ax2)[2]\n",
    "    lb += rec(ax1,ax2)[3]\n",
    "\n",
    "    \n",
    "print('recall:',q/l)    \n",
    "print('accuracy:',q/lb)\n",
    "print('正确预测出目标的框数量,真实框数量,预测框数量,预测错误数量分别为:',q,l,lb,lb-q)     #正确预测出目标的框数量,真实框数量,预测框数量,预测错误数量\n",
    "    \n",
    "# print(y_label[:80])\n",
    "# print(score[:80])\n",
    "\n",
    "\n"
   ]
  },
  {
   "cell_type": "code",
   "execution_count": 45,
   "metadata": {},
   "outputs": [
    {
     "name": "stdout",
     "output_type": "stream",
     "text": [
      "fpr [0. 0. 0. 0. 0. 0. 0. 1.]\n",
      "tpr [0.0, 0.541, 0.861, 0.966, 0.99, 0.997, 1.0, 1.0]\n",
      "roc_auc 1.0\n"
     ]
    },
    {
     "data": {
      "image/png": "[encoded data removed]",
      "text/plain": [
       "<Figure size 432x288 with 1 Axes>"
      ]
     },
     "metadata": {
      "needs_background": "light"
     },
     "output_type": "display_data"
    }
   ],
   "source": [
    "from sklearn.metrics import roc_curve, auc\n",
    "import matplotlib.pyplot as plt\n",
    "\n",
    "\n",
    "fpr, tpr, thersholds = roc_curve(y_label, score, pos_label=1)\n",
    "\n",
    "roc_auc = auc(fpr, tpr)\n",
    "print('fpr',fpr)\n",
    "print('tpr',[i.round(3) for i in tpr])       #保留三位小数\n",
    "print('roc_auc',roc_auc)\n",
    "plt.plot(fpr, tpr, 'k--', label='ROC (area = {0:.2f})'.format(roc_auc), lw=2)\n",
    " \n",
    "plt.xlim([-0.05, 1.05])  \n",
    "plt.ylim([-0.05, 1.05])\n",
    "plt.xlabel('False Positive Rate')\n",
    "plt.ylabel('True Positive Rate') \n",
    "plt.title('ROC Curve')\n",
    "plt.legend(loc=\"lower right\")\n",
    "plt.show()\n",
    "\n"
   ]
  },
  {
   "cell_type": "code",
   "execution_count": null,
   "metadata": {},
   "outputs": [],
   "source": []
  }
 ],
 "metadata": {
  "kernelspec": {
   "display_name": "Python 3",
   "language": "python",
   "name": "python3"
  },
  "language_info": {
   "codemirror_mode": {
    "name": "ipython",
    "version": 3
   },
   "file_extension": ".py",
   "mimetype": "text/x-python",
   "name": "python",
   "nbconvert_exporter": "python",
   "pygments_lexer": "ipython3",
   "version": "3.8.5"
  }
 },
 "nbformat": 4,
 "nbformat_minor": 4
}
